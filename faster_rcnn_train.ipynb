{
 "cells": [
  {
   "cell_type": "code",
   "execution_count": 1,
   "metadata": {
    "pycharm": {
     "name": "#%%\n"
    }
   },
   "outputs": [],
   "source": [
    "from mmcv import Config\n",
    "from mmdet.datasets import build_dataset\n",
    "from mmdet.models import build_detector\n",
    "from mmdet.apis import train_detector\n",
    "from mmdet.datasets import (build_dataloader, build_dataset,\n",
    "                            replace_ImageToTensor)"
   ]
  },
  {
   "cell_type": "code",
   "execution_count": 2,
   "metadata": {
    "pycharm": {
     "name": "#%%\n"
    }
   },
   "outputs": [],
   "source": [
    "classes = (\"UNKNOWN\", \"General trash\", \"Paper\", \"Paper pack\", \"Metal\", \"Glass\", \n",
    "           \"Plastic\", \"Styrofoam\", \"Plastic bag\", \"Battery\", \"Clothing\")\n",
    "# config file 들고오기\n",
    "cfg = Config.fromfile('./configs/faster_rcnn/faster_rcnn_r50_fpn_1x_coco.py')\n",
    "\n",
    "PREFIX = '../data/'\n",
    "\n",
    "\n",
    "# dataset 바꾸기\n",
    "cfg.data.train.classes = classes\n",
    "cfg.data.train.img_prefix = PREFIX\n",
    "cfg.data.train.ann_file = PREFIX + 'train.json'\n",
    "cfg.data.train.pipeline[2]['img_scale'] = (512, 512)\n",
    "\n",
    "cfg.data.val.classes = classes\n",
    "cfg.data.val.img_prefix = PREFIX\n",
    "cfg.data.val.ann_file = PREFIX + 'val.json'\n",
    "cfg.data.val.pipeline[1]['img_scale'] = (512, 512)\n",
    "\n",
    "cfg.data.test.classes = classes\n",
    "cfg.data.test.img_prefix = PREFIX\n",
    "cfg.data.test.ann_file = PREFIX + 'test.json'\n",
    "cfg.data.test.pipeline[1]['img_scale'] = (512, 512)\n",
    "\n",
    "cfg.seed=2020\n",
    "cfg.gpu_ids = [0]\n",
    "cfg.work_dir = './work_dirs/faster_rcnn_r50_fpn_1x_trash'\n",
    "\n",
    "cfg.model.roi_head.bbox_head.num_classes = 11\n",
    "\n",
    "cfg.optimizer_config.grad_clip = dict(max_norm=35, norm_type=2)"
   ]
  },
  {
   "cell_type": "code",
   "execution_count": 3,
   "metadata": {
    "pycharm": {
     "name": "#%%\n"
    }
   },
   "outputs": [],
   "source": [
    "classes = (\"UNKNOWN\", \"General trash\", \"Paper\", \"Paper pack\", \"Metal\", \"Glass\", \n",
    "           \"Plastic\", \"Styrofoam\", \"Plastic bag\", \"Battery\", \"Clothing\")\n",
    "# config file 들고오기\n",
    "cfg = Config.fromfile('./configs/faster_rcnn/faster_rcnn_r50_fpn_1x_coco.py')\n",
    "\n",
    "PREFIX = '../data/'\n",
    "\n",
    "\n",
    "# dataset 바꾸기\n",
    "cfg.data.train.classes = classes\n",
    "cfg.data.train.img_prefix = PREFIX\n",
    "cfg.data.train.ann_file = PREFIX + 'train.json'\n",
    "cfg.data.train.pipeline[2]['img_scale'] = (512, 512)\n",
    "\n",
    "cfg.data.val.classes = classes\n",
    "cfg.data.val.img_prefix = PREFIX\n",
    "cfg.data.val.ann_file = PREFIX + 'val.json'\n",
    "cfg.data.val.pipeline[1]['img_scale'] = (512, 512)\n",
    "\n",
    "cfg.data.test.classes = classes\n",
    "cfg.data.test.img_prefix = PREFIX\n",
    "cfg.data.test.ann_file = PREFIX + 'test.json'\n",
    "cfg.data.test.pipeline[1]['img_scale'] = (512, 512)\n",
    "\n",
    "cfg.data.samples_per_gpu = 4\n",
    "\n",
    "cfg.seed=2020\n",
    "cfg.gpu_ids = [0]\n",
    "cfg.work_dir = './work_dirs/faster_rcnn_r50_fpn_1x_trash'\n",
    "\n",
    "cfg.model.roi_head.bbox_head.num_classes = 11\n",
    "\n",
    "cfg.optimizer_config.grad_clip = dict(max_norm=35, norm_type=2)"
   ]
  },
  {
   "cell_type": "code",
   "execution_count": 4,
   "metadata": {
    "pycharm": {
     "name": "#%%\n"
    }
   },
   "outputs": [
    {
     "name": "stderr",
     "output_type": "stream",
     "text": [
      "2021-04-15 14:47:53,126 - mmdet - INFO - load model from: torchvision://resnet50\n",
      "2021-04-15 14:47:53,127 - mmdet - INFO - Use load_from_torchvision loader\n",
      "2021-04-15 14:47:53,424 - mmdet - WARNING - The model and loaded state dict do not match exactly\n",
      "\n",
      "unexpected key in source state_dict: fc.weight, fc.bias\n",
      "\n"
     ]
    }
   ],
   "source": [
    "model = build_detector(cfg.model)"
   ]
  },
  {
   "cell_type": "code",
   "execution_count": 5,
   "metadata": {
    "pycharm": {
     "name": "#%%\n"
    }
   },
   "outputs": [
    {
     "name": "stdout",
     "output_type": "stream",
     "text": [
      "loading annotations into memory...\n",
      "Done (t=3.82s)\n",
      "creating index...\n",
      "index created!\n"
     ]
    }
   ],
   "source": [
    "datasets = [build_dataset(cfg.data.train)]"
   ]
  },
  {
   "cell_type": "code",
   "execution_count": null,
   "metadata": {
    "pycharm": {
     "name": "#%%\n"
    }
   },
   "outputs": [
    {
     "name": "stdout",
     "output_type": "stream",
     "text": [
      "loading annotations into memory...\n"
     ]
    },
    {
     "name": "stderr",
     "output_type": "stream",
     "text": [
      "2021-04-15 14:48:02,355 - mmdet - INFO - Start running, host: root@pstage-teacher001, work_dir: /root/mmdetection_trash/work_dirs/faster_rcnn_r50_fpn_1x_trash\n",
      "2021-04-15 14:48:02,356 - mmdet - INFO - workflow: [('train', 1)], max: 12 epochs\n"
     ]
    },
    {
     "name": "stdout",
     "output_type": "stream",
     "text": [
      "Done (t=1.27s)\n",
      "creating index...\n",
      "index created!\n"
     ]
    },
    {
     "name": "stderr",
     "output_type": "stream",
     "text": [
      "2021-04-15 14:48:15,225 - mmdet - INFO - Epoch [1][50/655]\tlr: 1.978e-03, eta: 0:33:29, time: 0.257, data_time: 0.050, memory: 2097, loss_rpn_cls: 0.5121, loss_rpn_bbox: 0.0758, loss_cls: 0.6481, acc: 91.2773, loss_bbox: 0.1862, loss: 1.4222, grad_norm: 6.7234\n",
      "2021-04-15 14:48:25,702 - mmdet - INFO - Epoch [1][100/655]\tlr: 3.976e-03, eta: 0:30:11, time: 0.210, data_time: 0.006, memory: 2097, loss_rpn_cls: 0.2180, loss_rpn_bbox: 0.0820, loss_cls: 0.4404, acc: 90.3867, loss_bbox: 0.3559, loss: 1.0964, grad_norm: 3.1493\n",
      "2021-04-15 14:48:36,141 - mmdet - INFO - Epoch [1][150/655]\tlr: 5.974e-03, eta: 0:28:56, time: 0.209, data_time: 0.006, memory: 2097, loss_rpn_cls: 0.2082, loss_rpn_bbox: 0.0813, loss_cls: 0.4587, acc: 90.0820, loss_bbox: 0.3640, loss: 1.1123, grad_norm: 3.4784\n",
      "2021-04-15 14:48:46,435 - mmdet - INFO - Epoch [1][200/655]\tlr: 7.972e-03, eta: 0:28:08, time: 0.206, data_time: 0.005, memory: 2097, loss_rpn_cls: 0.1777, loss_rpn_bbox: 0.0839, loss_cls: 0.4640, acc: 88.9893, loss_bbox: 0.4110, loss: 1.1366, grad_norm: 3.1320\n",
      "2021-04-15 14:48:56,724 - mmdet - INFO - Epoch [1][250/655]\tlr: 9.970e-03, eta: 0:27:34, time: 0.206, data_time: 0.006, memory: 2097, loss_rpn_cls: 0.1902, loss_rpn_bbox: 0.0882, loss_cls: 0.4517, acc: 88.4463, loss_bbox: 0.4294, loss: 1.1595, grad_norm: 3.2667\n",
      "2021-04-15 14:49:06,917 - mmdet - INFO - Epoch [1][300/655]\tlr: 1.197e-02, eta: 0:27:06, time: 0.204, data_time: 0.006, memory: 2097, loss_rpn_cls: 0.1834, loss_rpn_bbox: 0.0892, loss_cls: 0.4607, acc: 88.5146, loss_bbox: 0.4175, loss: 1.1509, grad_norm: 3.3534\n",
      "2021-04-15 14:49:17,084 - mmdet - INFO - Epoch [1][350/655]\tlr: 1.397e-02, eta: 0:26:43, time: 0.203, data_time: 0.005, memory: 2097, loss_rpn_cls: 0.1414, loss_rpn_bbox: 0.0717, loss_cls: 0.4629, acc: 88.9639, loss_bbox: 0.3955, loss: 1.0715, grad_norm: 3.0608\n",
      "2021-04-15 14:49:27,185 - mmdet - INFO - Epoch [1][400/655]\tlr: 1.596e-02, eta: 0:26:21, time: 0.202, data_time: 0.005, memory: 2097, loss_rpn_cls: 0.1554, loss_rpn_bbox: 0.0719, loss_cls: 0.4374, acc: 88.7100, loss_bbox: 0.4053, loss: 1.0701, grad_norm: 2.7388\n",
      "2021-04-15 14:49:37,343 - mmdet - INFO - Epoch [1][450/655]\tlr: 1.796e-02, eta: 0:26:04, time: 0.203, data_time: 0.005, memory: 2097, loss_rpn_cls: 0.1408, loss_rpn_bbox: 0.0718, loss_cls: 0.4642, acc: 87.9941, loss_bbox: 0.4317, loss: 1.1084, grad_norm: 2.7859\n",
      "2021-04-15 14:49:47,443 - mmdet - INFO - Epoch [1][500/655]\tlr: 1.996e-02, eta: 0:25:46, time: 0.202, data_time: 0.005, memory: 2097, loss_rpn_cls: 0.1275, loss_rpn_bbox: 0.0778, loss_cls: 0.4519, acc: 88.2588, loss_bbox: 0.4230, loss: 1.0801, grad_norm: 2.5478\n",
      "2021-04-15 14:49:57,536 - mmdet - INFO - Epoch [1][550/655]\tlr: 2.000e-02, eta: 0:25:30, time: 0.202, data_time: 0.005, memory: 2097, loss_rpn_cls: 0.1403, loss_rpn_bbox: 0.0800, loss_cls: 0.4491, acc: 88.7246, loss_bbox: 0.3928, loss: 1.0622, grad_norm: 2.7539\n",
      "2021-04-15 14:50:07,712 - mmdet - INFO - Epoch [1][600/655]\tlr: 2.000e-02, eta: 0:25:16, time: 0.204, data_time: 0.006, memory: 2097, loss_rpn_cls: 0.1428, loss_rpn_bbox: 0.0748, loss_cls: 0.4657, acc: 89.0625, loss_bbox: 0.3694, loss: 1.0527, grad_norm: 2.8002\n",
      "2021-04-15 14:50:17,985 - mmdet - INFO - Epoch [1][650/655]\tlr: 2.000e-02, eta: 0:25:04, time: 0.205, data_time: 0.005, memory: 2097, loss_rpn_cls: 0.1365, loss_rpn_bbox: 0.0730, loss_cls: 0.4468, acc: 88.7188, loss_bbox: 0.3803, loss: 1.0365, grad_norm: 2.3413\n",
      "2021-04-15 14:50:19,058 - mmdet - INFO - Saving checkpoint at 1 epochs\n"
     ]
    },
    {
     "name": "stdout",
     "output_type": "stream",
     "text": [
      "[>>>>>>>>>>>>>>>>>>>>>>>>>>>>>] 655/655, 31.8 task/s, elapsed: 21s, ETA:     0s"
     ]
    },
    {
     "name": "stderr",
     "output_type": "stream",
     "text": [
      "2021-04-15 14:50:43,155 - mmdet - INFO - Evaluating bbox...\n"
     ]
    },
    {
     "name": "stdout",
     "output_type": "stream",
     "text": [
      "Loading and preparing results...\n",
      "DONE (t=0.62s)\n",
      "creating index...\n",
      "index created!\n",
      "Running per image evaluation...\n",
      "Evaluate annotation type *bbox*\n",
      "DONE (t=7.25s).\n",
      "Accumulating evaluation results...\n"
     ]
    },
    {
     "name": "stderr",
     "output_type": "stream",
     "text": [
      "2021-04-15 14:50:52,462 - mmdet - INFO - Epoch(val) [1][655]\tbbox_mAP: 0.0320, bbox_mAP_50: 0.0820, bbox_mAP_75: 0.0170, bbox_mAP_s: 0.0040, bbox_mAP_m: 0.0380, bbox_mAP_l: 0.0600, bbox_mAP_copypaste: 0.032 0.082 0.017 0.004 0.038 0.060\n"
     ]
    },
    {
     "name": "stdout",
     "output_type": "stream",
     "text": [
      "DONE (t=1.32s).\n",
      "Average Precision  (AP) @[ IoU=0.50:0.95 | area=   all | maxDets=100 ] = 0.032\n",
      "Average Precision  (AP) @[ IoU=0.50      | area=   all | maxDets=1000 ] = 0.082\n",
      "Average Precision  (AP) @[ IoU=0.75      | area=   all | maxDets=1000 ] = 0.017\n",
      "Average Precision  (AP) @[ IoU=0.50:0.95 | area= small | maxDets=1000 ] = 0.004\n",
      "Average Precision  (AP) @[ IoU=0.50:0.95 | area=medium | maxDets=1000 ] = 0.038\n",
      "Average Precision  (AP) @[ IoU=0.50:0.95 | area= large | maxDets=1000 ] = 0.060\n",
      "Average Recall     (AR) @[ IoU=0.50:0.95 | area=   all | maxDets=100 ] = 0.115\n",
      "Average Recall     (AR) @[ IoU=0.50:0.95 | area=   all | maxDets=300 ] = 0.115\n",
      "Average Recall     (AR) @[ IoU=0.50:0.95 | area=   all | maxDets=1000 ] = 0.115\n",
      "Average Recall     (AR) @[ IoU=0.50:0.95 | area= small | maxDets=1000 ] = 0.026\n",
      "Average Recall     (AR) @[ IoU=0.50:0.95 | area=medium | maxDets=1000 ] = 0.092\n",
      "Average Recall     (AR) @[ IoU=0.50:0.95 | area= large | maxDets=1000 ] = 0.239\n"
     ]
    }
   ],
   "source": [
    "train_detector(model, datasets[0], cfg, distributed=False, validate=True)"
   ]
  }
 ],
 "metadata": {
  "kernelspec": {
   "display_name": "Python 3",
   "language": "python",
   "name": "python3"
  },
  "language_info": {
   "codemirror_mode": {
    "name": "ipython",
    "version": 3
   },
   "file_extension": ".py",
   "mimetype": "text/x-python",
   "name": "python",
   "nbconvert_exporter": "python",
   "pygments_lexer": "ipython3",
   "version": "3.7.4"
  },
  "pycharm": {
   "stem_cell": {
    "cell_type": "raw",
    "metadata": {
     "collapsed": false
    },
    "source": []
   }
  }
 },
 "nbformat": 4,
 "nbformat_minor": 1
}
